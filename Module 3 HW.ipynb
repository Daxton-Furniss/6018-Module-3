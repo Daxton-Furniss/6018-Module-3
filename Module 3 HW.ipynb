{
 "cells": [
  {
   "cell_type": "code",
   "execution_count": 402,
   "id": "83433e34",
   "metadata": {},
   "outputs": [],
   "source": [
    "one_a = [0, 1, 2, 3, 4, 5, 6, 7, 8, 9]"
   ]
  },
  {
   "cell_type": "code",
   "execution_count": 450,
   "id": "9f43f5fd",
   "metadata": {},
   "outputs": [
    {
     "name": "stdout",
     "output_type": "stream",
     "text": [
      "[0, 1, 2, 3, 4, 3, 5, 6, 7, 8, 9]\n"
     ]
    }
   ],
   "source": [
    "one_b = [0, 1, 2, 3, 4, 5, 6, 7, 8, 9]\n",
    "one_b.insert(5, 3)\n",
    "print(one_b)"
   ]
  },
  {
   "cell_type": "code",
   "execution_count": 404,
   "id": "aa6ae7e0",
   "metadata": {},
   "outputs": [
    {
     "name": "stdout",
     "output_type": "stream",
     "text": [
      "[0.0, 1.0, 2.0, 3.0, 4.0, 5.0, 6.0, 7.0, 8.0, 9.0]\n"
     ]
    }
   ],
   "source": [
    "one_c = [0, 1, 2, 3, 4 , 5, 6, 7, 8, 9]\n",
    "one_c = [float(x) for x in one_c]\n",
    "print(one_c)"
   ]
  },
  {
   "cell_type": "code",
   "execution_count": 405,
   "id": "c872aa95",
   "metadata": {},
   "outputs": [
    {
     "name": "stdout",
     "output_type": "stream",
     "text": [
      "[0, 1, 2, 3, 4, 5, 6, 7, 8, 9]\n"
     ]
    }
   ],
   "source": [
    "one_d = [0, 1, 2, 3, 4, 5, 6, 7, 8, 9]\n",
    "set(one_d)\n",
    "print(one_d)"
   ]
  },
  {
   "cell_type": "code",
   "execution_count": 406,
   "id": "8a92ec82",
   "metadata": {},
   "outputs": [
    {
     "name": "stdout",
     "output_type": "stream",
     "text": [
      "{0, 1, 2, 3, 4, 5, 6, 7, 8, 9, 10}\n"
     ]
    }
   ],
   "source": [
    "one_e = {0, 1, 2, 3, 4, 5, 6, 7, 8, 9}\n",
    "one_e.add(10)\n",
    "print(one_e)"
   ]
  },
  {
   "cell_type": "code",
   "execution_count": 407,
   "id": "292f062b",
   "metadata": {},
   "outputs": [
    {
     "data": {
      "text/plain": [
       "0"
      ]
     },
     "execution_count": 407,
     "metadata": {},
     "output_type": "execute_result"
    }
   ],
   "source": [
    "one_f = {0, 1, 2, 3, 4, 5, 6, 7, 8, 9}\n",
    "one_f.pop()"
   ]
  },
  {
   "cell_type": "code",
   "execution_count": 408,
   "id": "1fe67679",
   "metadata": {},
   "outputs": [
    {
     "name": "stdout",
     "output_type": "stream",
     "text": [
      "10\n"
     ]
    }
   ],
   "source": [
    "one_g = {0, 1, 2, 3, 4, 5, 6, 7, 8, 9}\n",
    "print(len(one_g))"
   ]
  },
  {
   "cell_type": "code",
   "execution_count": 409,
   "id": "7cb01204",
   "metadata": {},
   "outputs": [
    {
     "name": "stdout",
     "output_type": "stream",
     "text": [
      "True\n"
     ]
    }
   ],
   "source": [
    "one_h = len(one_g) == len(one_a)\n",
    "print(one_h)"
   ]
  },
  {
   "cell_type": "code",
   "execution_count": 410,
   "id": "39deadb1",
   "metadata": {},
   "outputs": [
    {
     "name": "stdout",
     "output_type": "stream",
     "text": [
      "[0, 1, 2, 3, 4, 5, 6, 7, 8, 9, 0, 1, 2, 3, 4, 5, 6, 7, 8, 9]\n"
     ]
    }
   ],
   "source": [
    "one_i_set = {0, 1, 2, 3, 4, 5, 6, 7, 8, 9}\n",
    "one_i_list = list(one_i_set)\n",
    "one_i = one_i_list + one_a\n",
    "print(one_i)"
   ]
  },
  {
   "cell_type": "code",
   "execution_count": 411,
   "id": "2424f605",
   "metadata": {},
   "outputs": [
    {
     "name": "stdout",
     "output_type": "stream",
     "text": [
      "20\n"
     ]
    }
   ],
   "source": [
    "one_j = len(one_i)\n",
    "print(one_j)"
   ]
  },
  {
   "cell_type": "code",
   "execution_count": 412,
   "id": "ec43553e",
   "metadata": {},
   "outputs": [],
   "source": [
    "two_patient_dictionary_kinoko = {\"name\" : \"Kinoko\", \"year\" : 2021}\n",
    "two_patient_dictionary_dango = {\"name\" : \"Dango\",\"year\" : 2019}\n",
    "two_patient_dictionary_mochi  = {\"name\" : \"Mochi\", \"year\" : 2020}"
   ]
  },
  {
   "cell_type": "code",
   "execution_count": 413,
   "id": "c38a87d8",
   "metadata": {},
   "outputs": [],
   "source": [
    "two_a = {\n",
    "    \"two_patient_dictionary_kinoko\": two_patient_dictionary_kinoko,\n",
    "    \"two_patient_dictionary_dango\" : two_patient_dictionary_dango,\n",
    "    \"two_patient_dictionary_mochi\" : two_patient_dictionary_mochi\n",
    "} "
   ]
  },
  {
   "cell_type": "code",
   "execution_count": 414,
   "id": "ee5d2935",
   "metadata": {},
   "outputs": [
    {
     "name": "stdout",
     "output_type": "stream",
     "text": [
      "Dango\n"
     ]
    }
   ],
   "source": [
    "two_b = print(two_patient_dictionary_dango['name'])"
   ]
  },
  {
   "cell_type": "code",
   "execution_count": 415,
   "id": "83accdeb",
   "metadata": {},
   "outputs": [],
   "source": [
    "#two_c\n",
    "two_patient_dictionary_mochi[\"year\"] = 2018"
   ]
  },
  {
   "cell_type": "code",
   "execution_count": 416,
   "id": "eed50234",
   "metadata": {},
   "outputs": [],
   "source": [
    "two_d = {\n",
    "    \"Kinoko\" : 2021,\n",
    "    \"Dango\"  : 2019,\n",
    "    \"Mochi\"  : 2019\n",
    "}"
   ]
  },
  {
   "cell_type": "code",
   "execution_count": 417,
   "id": "8c3ee553",
   "metadata": {},
   "outputs": [
    {
     "name": "stdout",
     "output_type": "stream",
     "text": [
      "['Kinoko', 'Dango', 'Mochi']\n"
     ]
    }
   ],
   "source": [
    "x = two_d.keys()\n",
    "two_e = list(x)\n",
    "print(two_e)"
   ]
  },
  {
   "cell_type": "code",
   "execution_count": 418,
   "id": "16d8fec6",
   "metadata": {},
   "outputs": [
    {
     "name": "stdout",
     "output_type": "stream",
     "text": [
      "[2021, 2019, 2019]\n"
     ]
    }
   ],
   "source": [
    "x = two_d.values()\n",
    "two_f = list(x)\n",
    "print(two_f)"
   ]
  },
  {
   "cell_type": "code",
   "execution_count": 419,
   "id": "5ec93c6f",
   "metadata": {},
   "outputs": [
    {
     "name": "stdout",
     "output_type": "stream",
     "text": [
      "{'Kinoko': 2021, 'Dango': 2019, 'Mochi': 2019}\n"
     ]
    }
   ],
   "source": [
    "two_g = dict(zip(two_e, two_f))\n",
    "print(two_g)"
   ]
  },
  {
   "cell_type": "code",
   "execution_count": 420,
   "id": "1bac11c9",
   "metadata": {},
   "outputs": [],
   "source": [
    "three_setA = {1,2,3,4,5}\n",
    "three_setB = {2,3,4,5,6}\n",
    "three_setC = {3,5,7,9}\n",
    "three_setD = {2,4,6,8}\n",
    "three_setE = {1,2,3,4}"
   ]
  },
  {
   "cell_type": "code",
   "execution_count": 421,
   "id": "2e0029db",
   "metadata": {},
   "outputs": [
    {
     "name": "stdout",
     "output_type": "stream",
     "text": [
      "True\n"
     ]
    }
   ],
   "source": [
    "three_a = (three_setE.issubset(three_setA))\n",
    "print(three_a)"
   ]
  },
  {
   "cell_type": "code",
   "execution_count": 422,
   "id": "dcb080f8",
   "metadata": {},
   "outputs": [
    {
     "name": "stdout",
     "output_type": "stream",
     "text": [
      "False\n"
     ]
    }
   ],
   "source": [
    "three_b = (three_setE.issuperset(three_setA))\n",
    "print(three_b)"
   ]
  },
  {
   "cell_type": "code",
   "execution_count": 423,
   "id": "a5def7a1",
   "metadata": {},
   "outputs": [
    {
     "name": "stdout",
     "output_type": "stream",
     "text": [
      "{2, 3, 4, 5}\n"
     ]
    }
   ],
   "source": [
    "three_c = three_setA.intersection(three_setB)\n",
    "print(three_c)"
   ]
  },
  {
   "cell_type": "code",
   "execution_count": 424,
   "id": "101368e7",
   "metadata": {},
   "outputs": [
    {
     "name": "stdout",
     "output_type": "stream",
     "text": [
      "{1, 2, 3, 4, 5, 6, 7, 8, 9}\n"
     ]
    }
   ],
   "source": [
    "three_d = three_setC.union(three_setD, three_setE)\n",
    "print(three_d)"
   ]
  },
  {
   "cell_type": "code",
   "execution_count": 425,
   "id": "61b47439",
   "metadata": {},
   "outputs": [
    {
     "name": "stdout",
     "output_type": "stream",
     "text": [
      "{1, 2, 3, 4, 5, 6, 7, 8, 9}\n"
     ]
    }
   ],
   "source": [
    "#three_e\n",
    "three_d.add(9)\n",
    "print(three_d)"
   ]
  },
  {
   "cell_type": "code",
   "execution_count": 426,
   "id": "9376c122",
   "metadata": {},
   "outputs": [
    {
     "name": "stdout",
     "output_type": "stream",
     "text": [
      "False\n"
     ]
    }
   ],
   "source": [
    "three_f = three_d == one_a\n",
    "print(three_f)"
   ]
  },
  {
   "cell_type": "code",
   "execution_count": 427,
   "id": "43e82195",
   "metadata": {},
   "outputs": [],
   "source": [
    "#three_g\n",
    "#This is not the same value because there is a 0 missing in the set, and one_a is a list.\n",
    "#To be the same, a zero must be added, and they must be the same data type."
   ]
  },
  {
   "cell_type": "code",
   "execution_count": 428,
   "id": "6e2d5fa5",
   "metadata": {},
   "outputs": [],
   "source": [
    "four_a = 8"
   ]
  },
  {
   "cell_type": "code",
   "execution_count": 429,
   "id": "5f624fef",
   "metadata": {},
   "outputs": [],
   "source": [
    "four_b = []"
   ]
  },
  {
   "cell_type": "code",
   "execution_count": 430,
   "id": "10b5fc3a",
   "metadata": {},
   "outputs": [
    {
     "name": "stdout",
     "output_type": "stream",
     "text": [
      "[<class 'int'>]\n"
     ]
    }
   ],
   "source": [
    "four_c = type(four_a)\n",
    "four_b.insert(0, four_c)\n",
    "print(four_b)"
   ]
  },
  {
   "cell_type": "code",
   "execution_count": 431,
   "id": "574a4f3d",
   "metadata": {},
   "outputs": [
    {
     "name": "stdout",
     "output_type": "stream",
     "text": [
      "[<class 'int'>, 0.39]\n"
     ]
    }
   ],
   "source": [
    "#four_d\n",
    "four_b.append(0.39)\n",
    "print(four_b)"
   ]
  },
  {
   "cell_type": "code",
   "execution_count": 432,
   "id": "5267ad8c",
   "metadata": {},
   "outputs": [
    {
     "name": "stdout",
     "output_type": "stream",
     "text": [
      "[<class 'int'>, 0.39, <class 'float'>]\n"
     ]
    }
   ],
   "source": [
    "four_e = type(0.39)\n",
    "four_b.append(four_e)\n",
    "print(four_b)"
   ]
  },
  {
   "cell_type": "code",
   "execution_count": 433,
   "id": "63f981e1",
   "metadata": {},
   "outputs": [
    {
     "name": "stdout",
     "output_type": "stream",
     "text": [
      "[<class 'int'>, 0.39, <class 'float'>, 12284]\n"
     ]
    }
   ],
   "source": [
    "four_f = 0.39 ** -10\n",
    "rounded_four_f = round(four_f)\n",
    "four_b.append(rounded_four_f)\n",
    "print(four_b)"
   ]
  },
  {
   "cell_type": "code",
   "execution_count": 434,
   "id": "250ca5ae",
   "metadata": {},
   "outputs": [
    {
     "name": "stdout",
     "output_type": "stream",
     "text": [
      "[<class 'int'>, 0.39, <class 'float'>, 12284, <class 'int'>]\n"
     ]
    }
   ],
   "source": [
    "four_g = type(rounded_four_f)\n",
    "four_b.append(four_g)\n",
    "print(four_b)"
   ]
  },
  {
   "cell_type": "code",
   "execution_count": 435,
   "id": "0685b353",
   "metadata": {},
   "outputs": [
    {
     "name": "stdout",
     "output_type": "stream",
     "text": [
      "{0: 'int', 1: 0.39, 2: 'float', 3: 12284, 4: 'int'}\n"
     ]
    }
   ],
   "source": [
    "five_a = {0 : 'int', 1 : 0.39, 2 : 'float', 3 : 12284, 4 : 'int'}\n",
    "print(five_a)"
   ]
  },
  {
   "cell_type": "code",
   "execution_count": 436,
   "id": "60ce12c9",
   "metadata": {},
   "outputs": [
    {
     "name": "stdout",
     "output_type": "stream",
     "text": [
      "<class 'int'>0.39<class 'float'>12284<class 'int'>300\n"
     ]
    }
   ],
   "source": [
    "four_b.append(300)\n",
    "five_b = \"\".join(str(x) for x in four_b)\n",
    "print(five_b)"
   ]
  },
  {
   "cell_type": "code",
   "execution_count": 437,
   "id": "9d9eab01",
   "metadata": {},
   "outputs": [
    {
     "name": "stdout",
     "output_type": "stream",
     "text": [
      "[<class 'int'>, 0.39, <class 'float'>, 12284, <class 'int'>, 300, <class 'str'>]\n"
     ]
    }
   ],
   "source": [
    "five_c = type(five_b)\n",
    "four_b.append(five_c)\n",
    "print(four_b)"
   ]
  },
  {
   "cell_type": "code",
   "execution_count": 438,
   "id": "46cebfbe",
   "metadata": {},
   "outputs": [
    {
     "name": "stdout",
     "output_type": "stream",
     "text": [
      "<class 'int'>0.39\n"
     ]
    }
   ],
   "source": [
    "five_d = five_b[:17]\n",
    "print(five_d)"
   ]
  },
  {
   "cell_type": "code",
   "execution_count": 439,
   "id": "fe36a6c7",
   "metadata": {},
   "outputs": [
    {
     "name": "stdout",
     "output_type": "stream",
     "text": [
      "[<class 'int'>, 0.39, <class 'float'>, 12284, <class 'int'>, 300, <class 'str'>, <class 'str'>]\n"
     ]
    }
   ],
   "source": [
    "five_e = type(five_d)\n",
    "four_b.append(five_e)\n",
    "print(four_b)"
   ]
  },
  {
   "cell_type": "code",
   "execution_count": 440,
   "id": "4674fcea",
   "metadata": {},
   "outputs": [
    {
     "name": "stdout",
     "output_type": "stream",
     "text": [
      "[0.39, 12284, 300]\n"
     ]
    }
   ],
   "source": [
    "five_f = [x for x in four_b if isinstance(x, (int, float))]\n",
    "print(five_f)"
   ]
  },
  {
   "cell_type": "code",
   "execution_count": 441,
   "id": "3e64fef2",
   "metadata": {},
   "outputs": [
    {
     "name": "stdout",
     "output_type": "stream",
     "text": [
      "[<class 'int'>, 0.39, <class 'float'>, 12284, <class 'int'>, 300, <class 'str'>, <class 'str'>, <class 'list'>]\n"
     ]
    }
   ],
   "source": [
    "five_g = type(five_f)\n",
    "four_b.append(five_g)\n",
    "print(four_b)"
   ]
  },
  {
   "cell_type": "code",
   "execution_count": 442,
   "id": "9605ed9c",
   "metadata": {},
   "outputs": [
    {
     "name": "stdout",
     "output_type": "stream",
     "text": [
      "[<class 'int'>, 0.39, <class 'float'>, 12284, <class 'int'>, 300, <class 'str'>, <class 'str'>, <class 'list'>, <class 'set'>]\n"
     ]
    }
   ],
   "source": [
    "five_h = type(three_setA)\n",
    "four_b.append(five_h)\n",
    "print(four_b)"
   ]
  }
 ],
 "metadata": {
  "kernelspec": {
   "display_name": "Python 3 (ipykernel)",
   "language": "python",
   "name": "python3"
  },
  "language_info": {
   "codemirror_mode": {
    "name": "ipython",
    "version": 3
   },
   "file_extension": ".py",
   "mimetype": "text/x-python",
   "name": "python",
   "nbconvert_exporter": "python",
   "pygments_lexer": "ipython3",
   "version": "3.11.3"
  }
 },
 "nbformat": 4,
 "nbformat_minor": 5
}
